{
 "cells": [
  {
   "cell_type": "code",
   "execution_count": 1,
   "metadata": {},
   "outputs": [],
   "source": [
    "from sklearn import datasets\n",
    "import pandas as pd\n",
    "import numpy as np\n",
    "from random import randrange"
   ]
  },
  {
   "cell_type": "code",
   "execution_count": 7,
   "metadata": {},
   "outputs": [],
   "source": [
    "data1=datasets.load_iris()\n",
    "data2=datasets.load_breast_cancer()\n",
    "data3=datasets.load_diabetes()\n",
    "data4=datasets.load_wine()\n",
    "data5=datasets.load_digits()\n",
    "data6=datasets.fetch_california_housing()\n",
    "data7=datasets.load_boston() # 4 clf 3 reg"
   ]
  },
  {
   "cell_type": "code",
   "execution_count": 91,
   "metadata": {},
   "outputs": [
    {
     "data": {
      "text/plain": [
       "5"
      ]
     },
     "execution_count": 91,
     "metadata": {},
     "output_type": "execute_result"
    }
   ],
   "source": [
    "i=randrange(7)\n",
    "if(i==0):\n",
    "    data=data1\n",
    "    df= pd.DataFrame(data= np.c_[data['data'], data['target']],\n",
    "                 columns= data['feature_names'] + ['Species'])\n",
    "elif(i==1):\n",
    "    data=data2\n",
    "    df= pd.DataFrame(data= np.c_[data['data'], data['target']],\n",
    "                 columns= np.append(data['feature_names'],['Target']))\n",
    "elif(i==2):\n",
    "    data=data3\n",
    "    df= pd.DataFrame(data= np.c_[data['data'], data['target']],\n",
    "                 columns= np.append(data['feature_names'],['Target']))\n",
    "elif(i==3):\n",
    "    data=data4\n",
    "    df= pd.DataFrame(data= np.c_[data['data'], data['target']],\n",
    "                 columns= np.append(data['feature_names'],['Target']))\n",
    "elif(i==4):\n",
    "    data=data5\n",
    "    df= pd.DataFrame(data= np.c_[data['data'], data['target']],\n",
    "                 columns=['pixel']*64+['Label'])\n",
    "elif(i==5):\n",
    "    data=data6\n",
    "    df= pd.DataFrame(data= np.c_[data['data'], data['target']],\n",
    "                 columns= np.append(data['feature_names'],['Target']))\n",
    "else:\n",
    "    data=data7\n",
    "    df= pd.DataFrame(data= np.c_[data['data'], data['target']],\n",
    "                 columns= np.append(data['feature_names'],['Target']))\n",
    "i"
   ]
  },
  {
   "cell_type": "code",
   "execution_count": 92,
   "metadata": {},
   "outputs": [],
   "source": [
    "from sklearn.preprocessing import StandardScaler\n",
    "from sklearn.model_selection import train_test_split"
   ]
  },
  {
   "cell_type": "code",
   "execution_count": 93,
   "metadata": {},
   "outputs": [
    {
     "name": "stdout",
     "output_type": "stream",
     "text": [
      "Regression\n"
     ]
    }
   ],
   "source": [
    "if(df.iloc[:,-1].nunique()<=10):\n",
    "    X=data.data\n",
    "    y=data.target\n",
    "    sc=StandardScaler()\n",
    "    X=sc.fit_transform(X)\n",
    "    X_train,X_test,y_train,y_test=train_test_split(X,y,test_size=0.2)\n",
    "    print(\"Classification\")\n",
    "    print(X_train.shape,X_test.shape,y_train.shape,y_test.shape)\n",
    "else:\n",
    "    print(\"Regression\")"
   ]
  },
  {
   "cell_type": "markdown",
   "metadata": {},
   "source": [
    "# nunique <=10 cz data5 is a clf problem but no of target values is 10 which is maximum in the given problems. "
   ]
  },
  {
   "cell_type": "code",
   "execution_count": 1,
   "metadata": {},
   "outputs": [
    {
     "ename": "NameError",
     "evalue": "name 'df' is not defined",
     "output_type": "error",
     "traceback": [
      "\u001b[1;31m---------------------------------------------------------------------------\u001b[0m",
      "\u001b[1;31mNameError\u001b[0m                                 Traceback (most recent call last)",
      "\u001b[1;32m<ipython-input-1-52b3eb5ea678>\u001b[0m in \u001b[0;36m<module>\u001b[1;34m\u001b[0m\n\u001b[1;32m----> 1\u001b[1;33m \u001b[1;32mif\u001b[0m\u001b[1;33m(\u001b[0m\u001b[0mdf\u001b[0m\u001b[1;33m.\u001b[0m\u001b[0miloc\u001b[0m\u001b[1;33m[\u001b[0m\u001b[1;33m:\u001b[0m\u001b[1;33m,\u001b[0m\u001b[1;33m-\u001b[0m\u001b[1;36m1\u001b[0m\u001b[1;33m]\u001b[0m\u001b[1;33m.\u001b[0m\u001b[0mnunique\u001b[0m\u001b[1;33m(\u001b[0m\u001b[1;33m)\u001b[0m\u001b[1;33m<=\u001b[0m\u001b[1;36m10\u001b[0m\u001b[1;33m)\u001b[0m\u001b[1;33m:\u001b[0m\u001b[1;33m\u001b[0m\u001b[1;33m\u001b[0m\u001b[0m\n\u001b[0m\u001b[0;32m      2\u001b[0m     \u001b[0mX\u001b[0m\u001b[1;33m=\u001b[0m\u001b[0mdata\u001b[0m\u001b[1;33m.\u001b[0m\u001b[0mdata\u001b[0m\u001b[1;33m\u001b[0m\u001b[1;33m\u001b[0m\u001b[0m\n\u001b[0;32m      3\u001b[0m     \u001b[0my\u001b[0m\u001b[1;33m=\u001b[0m\u001b[0mdata\u001b[0m\u001b[1;33m.\u001b[0m\u001b[0mtarget\u001b[0m\u001b[1;33m\u001b[0m\u001b[1;33m\u001b[0m\u001b[0m\n\u001b[0;32m      4\u001b[0m     \u001b[0msc\u001b[0m\u001b[1;33m=\u001b[0m\u001b[0mStandardScaler\u001b[0m\u001b[1;33m(\u001b[0m\u001b[1;33m)\u001b[0m\u001b[1;33m\u001b[0m\u001b[1;33m\u001b[0m\u001b[0m\n\u001b[0;32m      5\u001b[0m     \u001b[0mX\u001b[0m\u001b[1;33m=\u001b[0m\u001b[0msc\u001b[0m\u001b[1;33m.\u001b[0m\u001b[0mfit_transform\u001b[0m\u001b[1;33m(\u001b[0m\u001b[0mX\u001b[0m\u001b[1;33m)\u001b[0m\u001b[1;33m\u001b[0m\u001b[1;33m\u001b[0m\u001b[0m\n",
      "\u001b[1;31mNameError\u001b[0m: name 'df' is not defined"
     ]
    }
   ],
   "source": [
    "if(df.iloc[:,-1].nunique()<=10):\n",
    "    X=data.data\n",
    "    y=data.target\n",
    "    sc=StandardScaler()\n",
    "    X=sc.fit_transform(X)\n",
    "    X_train,X_test,y_train,y_test=train_test_split(X,y,test_size=0.2)\n",
    "    print(\"Category:Classification\")\n",
    "    print(\"X_train shape:\",X_train.shape,\", X_test shape:\",X_test.shape,\", y_train shape:\",y_train.shape,\", y_test shape:\",y_test.shape)\n",
    "else:\n",
    "    X=data.data\n",
    "    y=data.target\n",
    "    sc=StandardScaler()\n",
    "    X=sc.fit_transform(X)\n",
    "    X_train,X_test,y_train,y_test=train_test_split(X,y,test_size=0.2)\n",
    "    print(\"Category:Regression\")\n",
    "    print(\"X_train shape:\",X_train.shape,\", X_test shape:\",X_test.shape,\", y_train shape:\",y_train.shape,\", y_test shape:\",y_test.shape)\n",
    "\n"
   ]
  },
  {
   "cell_type": "code",
   "execution_count": null,
   "metadata": {},
   "outputs": [],
   "source": [
    "if(df.iloc[:,-1].nunique()<=10):\n",
    "    clf=DecisionTreeClassifier()\n",
    "    clf.fit(X_train,y_train)\n",
    "else:    \n",
    "    clf=DecisionTreeRegressor()\n",
    "    clf.fit(X_train,y_train)\n",
    "Prediction\n",
    "In [227]:\n",
    "y_pred=clf.predict(X_test)\n",
    "\n"
   ]
  },
  {
   "cell_type": "code",
   "execution_count": null,
   "metadata": {},
   "outputs": [],
   "source": [
    "if(df.iloc[:,-1].nunique()<=10):\n",
    "    from sklearn.metrics import accuracy_score\n",
    "    print(accuracy_score(y_test,y_pred))\n",
    "else:    \n",
    "    from sklearn.metrics import r2_score\n",
    "    print(r2_score(y_test,y_pred))"
   ]
  },
  {
   "cell_type": "code",
   "execution_count": 3,
   "metadata": {},
   "outputs": [],
   "source": [
    "from sklearn.datasets import make_classification"
   ]
  },
  {
   "cell_type": "code",
   "execution_count": 10,
   "metadata": {},
   "outputs": [
    {
     "data": {
      "image/png": "[encoded data removed]",
      "text/plain": [
       "<Figure size 432x288 with 1 Axes>"
      ]
     },
     "metadata": {
      "needs_background": "light"
     },
     "output_type": "display_data"
    }
   ],
   "source": [
    "X, y = make_blobs(n_samples=100, centers=3, n_features=2)\n",
    "from sklearn.datasets import make_blobs\n",
    "from matplotlib import pyplot\n",
    "from pandas import DataFrame\n",
    "# generate 2d classification dataset\n",
    "X, y = make_blobs(n_samples=100, centers=3, n_features=2)\n",
    "# scatter plot, dots colored by class value\n",
    "df = DataFrame(dict(x=X[:,0], y=X[:,1], label=y))\n",
    "colors = {0:'red', 1:'blue', 2:'green'}\n",
    "fig, ax = pyplot.subplots()\n",
    "grouped = df.groupby('label')\n",
    "for key, group in grouped:\n",
    "    group.plot(ax=ax, kind='scatter', x='x', y='y', label=key, color=colors[key])\n",
    "pyplot.show()"
   ]
  },
  {
   "cell_type": "code",
   "execution_count": 11,
   "metadata": {},
   "outputs": [
    {
     "data": {
      "text/html": [
       "<div>\n",
       "<style scoped>\n",
       "    .dataframe tbody tr th:only-of-type {\n",
       "        vertical-align: middle;\n",
       "    }\n",
       "\n",
       "    .dataframe tbody tr th {\n",
       "        vertical-align: top;\n",
       "    }\n",
       "\n",
       "    .dataframe thead th {\n",
       "        text-align: right;\n",
       "    }\n",
       "</style>\n",
       "<table border=\"1\" class=\"dataframe\">\n",
       "  <thead>\n",
       "    <tr style=\"text-align: right;\">\n",
       "      <th></th>\n",
       "      <th>x</th>\n",
       "      <th>y</th>\n",
       "      <th>label</th>\n",
       "    </tr>\n",
       "  </thead>\n",
       "  <tbody>\n",
       "    <tr>\n",
       "      <td>0</td>\n",
       "      <td>1.662555</td>\n",
       "      <td>1.458028</td>\n",
       "      <td>1</td>\n",
       "    </tr>\n",
       "    <tr>\n",
       "      <td>1</td>\n",
       "      <td>0.294583</td>\n",
       "      <td>2.491352</td>\n",
       "      <td>1</td>\n",
       "    </tr>\n",
       "    <tr>\n",
       "      <td>2</td>\n",
       "      <td>0.049970</td>\n",
       "      <td>-4.402931</td>\n",
       "      <td>2</td>\n",
       "    </tr>\n",
       "    <tr>\n",
       "      <td>3</td>\n",
       "      <td>0.543500</td>\n",
       "      <td>3.874750</td>\n",
       "      <td>1</td>\n",
       "    </tr>\n",
       "    <tr>\n",
       "      <td>4</td>\n",
       "      <td>0.250780</td>\n",
       "      <td>-3.543047</td>\n",
       "      <td>2</td>\n",
       "    </tr>\n",
       "    <tr>\n",
       "      <td>...</td>\n",
       "      <td>...</td>\n",
       "      <td>...</td>\n",
       "      <td>...</td>\n",
       "    </tr>\n",
       "    <tr>\n",
       "      <td>95</td>\n",
       "      <td>1.542714</td>\n",
       "      <td>3.047448</td>\n",
       "      <td>1</td>\n",
       "    </tr>\n",
       "    <tr>\n",
       "      <td>96</td>\n",
       "      <td>-0.119488</td>\n",
       "      <td>1.774026</td>\n",
       "      <td>0</td>\n",
       "    </tr>\n",
       "    <tr>\n",
       "      <td>97</td>\n",
       "      <td>-1.259815</td>\n",
       "      <td>-2.525212</td>\n",
       "      <td>2</td>\n",
       "    </tr>\n",
       "    <tr>\n",
       "      <td>98</td>\n",
       "      <td>-0.280621</td>\n",
       "      <td>-4.977813</td>\n",
       "      <td>2</td>\n",
       "    </tr>\n",
       "    <tr>\n",
       "      <td>99</td>\n",
       "      <td>-1.828079</td>\n",
       "      <td>2.177053</td>\n",
       "      <td>1</td>\n",
       "    </tr>\n",
       "  </tbody>\n",
       "</table>\n",
       "<p>100 rows × 3 columns</p>\n",
       "</div>"
      ],
      "text/plain": [
       "           x         y  label\n",
       "0   1.662555  1.458028      1\n",
       "1   0.294583  2.491352      1\n",
       "2   0.049970 -4.402931      2\n",
       "3   0.543500  3.874750      1\n",
       "4   0.250780 -3.543047      2\n",
       "..       ...       ...    ...\n",
       "95  1.542714  3.047448      1\n",
       "96 -0.119488  1.774026      0\n",
       "97 -1.259815 -2.525212      2\n",
       "98 -0.280621 -4.977813      2\n",
       "99 -1.828079  2.177053      1\n",
       "\n",
       "[100 rows x 3 columns]"
      ]
     },
     "execution_count": 11,
     "metadata": {},
     "output_type": "execute_result"
    }
   ],
   "source": [
    "df"
   ]
  },
  {
   "cell_type": "markdown",
   "metadata": {},
   "source": [
    "# --------------------                     ROUGH                          --------------------------"
   ]
  }
 ],
 "metadata": {
  "kernelspec": {
   "display_name": "Python 3",
   "language": "python",
   "name": "python3"
  },
  "language_info": {
   "codemirror_mode": {
    "name": "ipython",
    "version": 3
   },
   "file_extension": ".py",
   "mimetype": "text/x-python",
   "name": "python",
   "nbconvert_exporter": "python",
   "pygments_lexer": "ipython3",
   "version": "3.7.4"
  }
 },
 "nbformat": 4,
 "nbformat_minor": 2
}
